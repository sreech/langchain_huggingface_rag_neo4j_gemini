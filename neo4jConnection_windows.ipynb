{
  "nbformat": 4,
  "nbformat_minor": 0,
  "metadata": {
    "colab": {
      "provenance": []
    },
    "kernelspec": {
      "name": "python3",
      "display_name": "Python 3"
    },
    "language_info": {
      "name": "python"
    }
  },
  "cells": [
    {
      "cell_type": "code",
      "source": [
        "%pip install -U langchain-neo4j"
      ],
      "metadata": {
        "id": "heXTXYr1zweJ"
      },
      "execution_count": null,
      "outputs": []
    },
    {
      "cell_type": "code",
      "execution_count": 4,
      "metadata": {
        "colab": {
          "base_uri": "https://localhost:8080/"
        },
        "id": "1zZQ09ZgzdKW",
        "outputId": "8d75ee6c-0f7f-472f-a6d8-4103cae09982"
      },
      "outputs": [
        
      ],
      "source": [
        "#After installing in windows desktop: Run through the browser using the following url http://localhost:7474 for the browser and bolt://localhost:7687 for the Bolt protocol\n",
        "#copy this file 'apoc-5.14.0-core.jar' from C:\\Users\\0J0795897\\.Neo4jDesktop2\\Data\\dbmss\\dbms-87b84cd6-db09-4e4a-b395-287598bf6ef3\\labs\\ to C:\\Users\\0J0795897\\.Neo4jDesktop2\\Data\\dbmss\\dbms-87b84cd6-db09-4e4a-b395-287598bf6ef3\\plugins\n",
        "#update this file C:\\Users\\0J0795897\\.Neo4jDesktop2\\Data\\dbmss\\dbms-87b84cd6-db09-4e4a-b395-287598bf6ef3\\conf\\neo4j.conf\n",
        "#dbms.security.procedures.unrestricted=apoc.*\n",
        "#dbms.security.procedures.allowlist=apoc.*\n",
        "#restart the neo4j instance\n",
        "from langchain_neo4j import Neo4jGraph\n",
        "# Test connection\n",
        "try:\n",
        "    graph = Neo4jGraph(\n",
        "        url=\"neo4j://localhost:7687\",\n",
        "        username=\"neo4j\",\n",
        "        password=\"changeit\"\n",
        "    )\n",
        "    print(\"Neo4j connection successful!\")\n",
        "except Exception as e:\n",
        "    print(f\"Neo4j connection failed: {e}\")"
      ]
    }
  ]
}
