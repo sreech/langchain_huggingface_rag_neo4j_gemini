{
  "nbformat": 4,
  "nbformat_minor": 0,
  "metadata": {
    "colab": {
      "provenance": []
    },
    "kernelspec": {
      "name": "python3",
      "display_name": "Python 3"
    },
    "language_info": {
      "name": "python"
    }
  },
  "cells": [
    {
      "cell_type": "code",
      "execution_count": 1,
      "metadata": {
        "colab": {
          "base_uri": "https://localhost:8080/",
          "height": 106
        },
        "id": "VgvY5lberlLJ",
        "outputId": "1fd7e083-fbdc-4c0a-acc8-7f2a6df7693c"
      },
      "outputs": [
        {
          "output_type": "stream",
          "name": "stdout",
          "text": [
            "** GenAI text: 'gemini-1.5-flash' model & prompt 'Describe a cat in a few sentences'\n",
            "\n",
            "A sleek, orange tabby cat with emerald eyes, sat perched regally atop a sunbeam, its tail twitching rhythmically.  A picture of feline contentment, it occasionally blinked slowly, a gesture of trust and quiet purring filled the air.\n",
            "\n"
          ]
        }
      ],
      "source": [
        "from google.colab import userdata\n",
        "api_key = userdata.get('GOOGLE_API_KEY')\n",
        "import google.generativeai as genai\n",
        "PROMPT = 'Describe a cat in a few sentences'\n",
        "MODEL = 'gemini-1.5-flash'\n",
        "print('** GenAI text: %r model & prompt %r\\n' % (MODEL, PROMPT))\n",
        "genai.configure(api_key=api_key)\n",
        "model = genai.GenerativeModel(MODEL)\n",
        "response = model.generate_content(PROMPT)\n",
        "print(response.text)\n"
      ]
    }
  ]
}
